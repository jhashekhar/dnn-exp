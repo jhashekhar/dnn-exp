{
 "cells": [
  {
   "cell_type": "code",
   "execution_count": 22,
   "metadata": {},
   "outputs": [],
   "source": [
    "import numpy as np\n",
    "import torch\n",
    "import torch.nn.functional as F\n",
    "import torch.nn as nn\n",
    "import torchvision\n",
    "from torchvision import transforms"
   ]
  },
  {
   "cell_type": "code",
   "execution_count": 23,
   "metadata": {},
   "outputs": [],
   "source": [
    "trainset = torchvision.datasets.MNIST(root='data/', \n",
    "                                      train=True, \n",
    "                                      transform = torchvision.transforms.Compose([\n",
    "                                          transforms.Resize(10),\n",
    "                                          transforms.ToTensor()]),\n",
    "                                      download=True)\n",
    "\n",
    "testset = torchvision.datasets.MNIST(root='data/', \n",
    "                                     train=False,\n",
    "                                     transform = torchvision.transforms.Compose([\n",
    "                                         transforms.Resize(10), \n",
    "                                         transforms.ToTensor()]), \n",
    "                                     download=True)"
   ]
  },
  {
   "cell_type": "code",
   "execution_count": 24,
   "metadata": {},
   "outputs": [
    {
     "name": "stdout",
     "output_type": "stream",
     "text": [
      "torch.Size([1, 10, 10])\n",
      "torch.Size([10, 10])\n",
      "tensor(4)\n"
     ]
    },
    {
     "data": {
      "text/plain": [
       "<matplotlib.image.AxesImage at 0xd293748>"
      ]
     },
     "execution_count": 24,
     "metadata": {},
     "output_type": "execute_result"
    },
    {
     "data": {
      "image/png": "[encoded data removed]",
      "text/plain": [
       "<Figure size 432x288 with 1 Axes>"
      ]
     },
     "metadata": {
      "needs_background": "light"
     },
     "output_type": "display_data"
    }
   ],
   "source": [
    "import matplotlib.pyplot as plt\n",
    "img = trainset[2][0]\n",
    "print(img.shape)\n",
    "img = img.reshape(10, 10)\n",
    "print(img.shape)\n",
    "print(trainset[2][1])\n",
    "plt.gray()\n",
    "plt.imshow(img)"
   ]
  },
  {
   "cell_type": "code",
   "execution_count": 25,
   "metadata": {},
   "outputs": [],
   "source": [
    "trainloader = torch.utils.data.DataLoader(trainset, batch_size=16, shuffle=True)\n",
    "testloader = torch.utils.data.DataLoader(testset, batch_size=16, shuffle=False)"
   ]
  },
  {
   "cell_type": "code",
   "execution_count": 26,
   "metadata": {},
   "outputs": [],
   "source": [
    "class Net(nn.Module):\n",
    "    def __init__(self):\n",
    "        super(Net, self).__init__()\n",
    "        self.fc1 = nn.Linear(100, 25)\n",
    "        self.fc2 = nn.Linear(25, 10)\n",
    "        \n",
    "    def forward(self, x):\n",
    "        z1 = F.relu(self.fc1(x.view(16, -1)))\n",
    "        out = self.fc2(z1)\n",
    "        return out, z1"
   ]
  },
  {
   "cell_type": "code",
   "execution_count": 27,
   "metadata": {},
   "outputs": [],
   "source": [
    "net = Net()"
   ]
  },
  {
   "cell_type": "code",
   "execution_count": 28,
   "metadata": {},
   "outputs": [],
   "source": [
    "criterion = nn.CrossEntropyLoss()\n",
    "optimizer = torch.optim.SGD(net.parameters(), lr=0.001, momentum=0.9)"
   ]
  },
  {
   "cell_type": "code",
   "execution_count": 29,
   "metadata": {},
   "outputs": [
    {
     "name": "stdout",
     "output_type": "stream",
     "text": [
      "Epoch: 1/50\n",
      "==========\n",
      "train loss: 1.4608950390418372\n",
      "\n",
      "Epoch: 2/50\n",
      "==========\n",
      "train loss: 0.5469565985600153\n",
      "\n",
      "Epoch: 3/50\n",
      "==========\n",
      "train loss: 0.42869625862836835\n",
      "\n",
      "Epoch: 4/50\n",
      "==========\n",
      "train loss: 0.38552753401199974\n",
      "\n",
      "Epoch: 5/50\n",
      "==========\n",
      "train loss: 0.36074226867755255\n",
      "\n",
      "Epoch: 6/50\n",
      "==========\n",
      "train loss: 0.3435155544757843\n",
      "\n",
      "Epoch: 7/50\n",
      "==========\n",
      "train loss: 0.33047321452299755\n",
      "\n",
      "Epoch: 8/50\n",
      "==========\n",
      "train loss: 0.31948010784387587\n",
      "\n",
      "Epoch: 9/50\n",
      "==========\n",
      "train loss: 0.30968598599036534\n",
      "\n",
      "Epoch: 10/50\n",
      "==========\n",
      "train loss: 0.30148920783201855\n",
      "\n",
      "Epoch: 11/50\n",
      "==========\n",
      "train loss: 0.29369012871980665\n",
      "\n",
      "Epoch: 12/50\n",
      "==========\n",
      "train loss: 0.28634658986727396\n",
      "\n",
      "Epoch: 13/50\n",
      "==========\n",
      "train loss: 0.27918108528057733\n",
      "\n",
      "Epoch: 14/50\n",
      "==========\n",
      "train loss: 0.2728458710988363\n",
      "\n",
      "Epoch: 15/50\n",
      "==========\n",
      "train loss: 0.2665171367605527\n",
      "\n",
      "Epoch: 16/50\n",
      "==========\n",
      "train loss: 0.26050397286812466\n",
      "\n",
      "Epoch: 17/50\n",
      "==========\n",
      "train loss: 0.25470597845315934\n",
      "\n",
      "Epoch: 18/50\n",
      "==========\n",
      "train loss: 0.24939059560696283\n",
      "\n",
      "Epoch: 19/50\n",
      "==========\n",
      "train loss: 0.24396199404795965\n",
      "\n",
      "Epoch: 20/50\n",
      "==========\n",
      "train loss: 0.2391874850889047\n",
      "\n",
      "Epoch: 21/50\n",
      "==========\n",
      "train loss: 0.2344601084947586\n",
      "\n",
      "Epoch: 22/50\n",
      "==========\n",
      "train loss: 0.2299854279836019\n",
      "\n",
      "Epoch: 23/50\n",
      "==========\n",
      "train loss: 0.22593739123344422\n",
      "\n",
      "Epoch: 24/50\n",
      "==========\n",
      "train loss: 0.22178892884651819\n",
      "\n",
      "Epoch: 25/50\n",
      "==========\n",
      "train loss: 0.21811231784423193\n",
      "\n",
      "Epoch: 26/50\n",
      "==========\n",
      "train loss: 0.21431052652597427\n",
      "\n",
      "Epoch: 27/50\n",
      "==========\n",
      "train loss: 0.21083955819209416\n",
      "\n",
      "Epoch: 28/50\n",
      "==========\n",
      "train loss: 0.20760944602092107\n",
      "\n",
      "Epoch: 29/50\n",
      "==========\n",
      "train loss: 0.20458462520837783\n",
      "\n",
      "Epoch: 30/50\n",
      "==========\n",
      "train loss: 0.2016427247007688\n",
      "\n",
      "Epoch: 31/50\n",
      "==========\n",
      "train loss: 0.19873014228542646\n",
      "\n",
      "Epoch: 32/50\n",
      "==========\n",
      "train loss: 0.19604447675148645\n",
      "\n",
      "Epoch: 33/50\n",
      "==========\n",
      "train loss: 0.19366012952923775\n",
      "\n",
      "Epoch: 34/50\n",
      "==========\n",
      "train loss: 0.19128934261401495\n",
      "\n",
      "Epoch: 35/50\n",
      "==========\n",
      "train loss: 0.18885333020687103\n",
      "\n",
      "Epoch: 36/50\n",
      "==========\n",
      "train loss: 0.18666509595910707\n",
      "\n",
      "Epoch: 37/50\n",
      "==========\n",
      "train loss: 0.18466915665070216\n",
      "\n",
      "Epoch: 38/50\n",
      "==========\n",
      "train loss: 0.18252429342071216\n",
      "\n",
      "Epoch: 39/50\n",
      "==========\n",
      "train loss: 0.18033646594484648\n",
      "\n",
      "Epoch: 40/50\n",
      "==========\n",
      "train loss: 0.17850633588234582\n",
      "\n",
      "Epoch: 41/50\n",
      "==========\n",
      "train loss: 0.17671010550459226\n",
      "\n",
      "Epoch: 42/50\n",
      "==========\n",
      "train loss: 0.1751046397527059\n",
      "\n",
      "Epoch: 43/50\n",
      "==========\n",
      "train loss: 0.1731670289079348\n",
      "\n",
      "Epoch: 44/50\n",
      "==========\n",
      "train loss: 0.1717128115038077\n",
      "\n",
      "Epoch: 45/50\n",
      "==========\n",
      "train loss: 0.170087524108092\n",
      "\n",
      "Epoch: 46/50\n",
      "==========\n",
      "train loss: 0.16850941461920738\n",
      "\n",
      "Epoch: 47/50\n",
      "==========\n",
      "train loss: 0.1671040939549605\n",
      "\n",
      "Epoch: 48/50\n",
      "==========\n",
      "train loss: 0.16551080706914265\n",
      "\n",
      "Epoch: 49/50\n",
      "==========\n",
      "train loss: 0.1641640965104103\n",
      "\n",
      "Epoch: 50/50\n",
      "==========\n",
      "train loss: 0.16295549167195955\n",
      "\n",
      "Finished Training\n"
     ]
    }
   ],
   "source": [
    "num_epochs = 50\n",
    "for epoch in range(num_epochs):\n",
    "    print('Epoch: {}/{}'.format(epoch+1, num_epochs))\n",
    "    print('='*10)\n",
    "    running_loss = 0.0\n",
    "    for i, data in enumerate(trainloader):\n",
    "        inputs, labels = data\n",
    "        optimizer.zero_grad()\n",
    "        outputs = net(inputs)\n",
    "        loss = criterion(outputs[0], labels)\n",
    "        loss.backward()\n",
    "        optimizer.step()\n",
    "        running_loss += loss.item() * inputs.size(0)\n",
    "    print('train loss: {}\\n'.format(running_loss/len(trainset)))\n",
    "\n",
    "print('Finished Training')"
   ]
  },
  {
   "cell_type": "code",
   "execution_count": 30,
   "metadata": {},
   "outputs": [
    {
     "data": {
      "text/plain": [
       "torch.Size([10, 25])"
      ]
     },
     "execution_count": 30,
     "metadata": {},
     "output_type": "execute_result"
    }
   ],
   "source": [
    "net.fc2.weight.data.shape"
   ]
  },
  {
   "cell_type": "code",
   "execution_count": 32,
   "metadata": {},
   "outputs": [
    {
     "name": "stdout",
     "output_type": "stream",
     "text": [
      "test acc: 0.9549\n"
     ]
    }
   ],
   "source": [
    "running_correct = 0\n",
    "for data in testloader:\n",
    "    images, labels = data\n",
    "    outputs = net(images)\n",
    "    _, preds = torch.max(outputs[0], 1)\n",
    "    running_correct += (preds == labels).sum().item()\n",
    "\n",
    "print('test acc: {}'.format(running_correct/len(testset)))"
   ]
  },
  {
   "cell_type": "code",
   "execution_count": 33,
   "metadata": {},
   "outputs": [
    {
     "name": "stderr",
     "output_type": "stream",
     "text": [
      "C:\\Users\\ADMIN\\Anaconda3\\envs\\machlearn\\lib\\site-packages\\torch\\serialization.py:241: UserWarning: Couldn't retrieve source code for container of type Net. It won't be checked for correctness upon loading.\n",
      "  \"type \" + obj.__name__ + \". It won't be checked \"\n"
     ]
    }
   ],
   "source": [
    "torch.save(net, 'trained-models/net_02.pth')"
   ]
  },
  {
   "cell_type": "code",
   "execution_count": 34,
   "metadata": {},
   "outputs": [],
   "source": [
    "model = torch.load('trained-models/net_02.pth')"
   ]
  },
  {
   "cell_type": "code",
   "execution_count": 35,
   "metadata": {},
   "outputs": [
    {
     "data": {
      "text/plain": [
       "<matplotlib.image.AxesImage at 0x8f745c0>"
      ]
     },
     "execution_count": 35,
     "metadata": {},
     "output_type": "execute_result"
    },
    {
     "data": {
      "image/png": "[encoded data removed]",
      "text/plain": [
       "<Figure size 1080x360 with 1 Axes>"
      ]
     },
     "metadata": {
      "needs_background": "light"
     },
     "output_type": "display_data"
    }
   ],
   "source": [
    "plt.figure(figsize=(15, 5))\n",
    "plt.imshow(model.fc1.weight.data)"
   ]
  },
  {
   "cell_type": "code",
   "execution_count": 36,
   "metadata": {},
   "outputs": [
    {
     "data": {
      "text/plain": [
       "<matplotlib.image.AxesImage at 0x525e550>"
      ]
     },
     "execution_count": 36,
     "metadata": {},
     "output_type": "execute_result"
    },
    {
     "data": {
      "image/png": "[encoded data removed]",
      "text/plain": [
       "<Figure size 1080x360 with 1 Axes>"
      ]
     },
     "metadata": {
      "needs_background": "light"
     },
     "output_type": "display_data"
    }
   ],
   "source": [
    "plt.figure(figsize=(15, 5))\n",
    "plt.imshow(model.fc2.weight.data)"
   ]
  }
 ],
 "metadata": {
  "kernelspec": {
   "display_name": "Python 3",
   "language": "python",
   "name": "python3"
  },
  "language_info": {
   "codemirror_mode": {
    "name": "ipython",
    "version": 3
   },
   "file_extension": ".py",
   "mimetype": "text/x-python",
   "name": "python",
   "nbconvert_exporter": "python",
   "pygments_lexer": "ipython3",
   "version": "3.6.6"
  }
 },
 "nbformat": 4,
 "nbformat_minor": 2
}
