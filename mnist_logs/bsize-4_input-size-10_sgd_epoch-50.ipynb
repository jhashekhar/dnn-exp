{
 "cells": [
  {
   "cell_type": "code",
   "execution_count": 1,
   "metadata": {},
   "outputs": [],
   "source": [
    "import numpy as np\n",
    "import torch\n",
    "import torch.nn.functional as F\n",
    "import torch.nn as nn\n",
    "from torch.utils.data.sampler import SubsetRandomSampler\n",
    "import torchvision\n",
    "from torchvision import transforms"
   ]
  },
  {
   "cell_type": "code",
   "execution_count": 2,
   "metadata": {},
   "outputs": [],
   "source": [
    "trainset = torchvision.datasets.MNIST(root='data/', \n",
    "                                      train=True, \n",
    "                                      transform = torchvision.transforms.Compose([\n",
    "                                          transforms.Resize(10),\n",
    "                                          transforms.ToTensor()]),\n",
    "                                      download=True)\n",
    "\n",
    "testset = torchvision.datasets.MNIST(root='data/', \n",
    "                                     train=False,\n",
    "                                     transform = torchvision.transforms.Compose([\n",
    "                                         transforms.Resize(10), \n",
    "                                         transforms.ToTensor()]), \n",
    "                                     download=True)"
   ]
  },
  {
   "cell_type": "code",
   "execution_count": 3,
   "metadata": {},
   "outputs": [],
   "source": [
    "split = 0.1\n",
    "dataset_size = len(trainset)\n",
    "indices = list(range(dataset_size))\n",
    "np.random.shuffle(indices)\n",
    "val_split = int(np.floor(split * dataset_size))\n",
    "train_indices = indices[val_split:]\n",
    "val_indices = indices[:val_split] \n",
    "\n",
    "train_sampler = SubsetRandomSampler(train_indices)\n",
    "valid_sampler = SubsetRandomSampler(val_indices)"
   ]
  },
  {
   "cell_type": "code",
   "execution_count": 4,
   "metadata": {},
   "outputs": [
    {
     "name": "stdout",
     "output_type": "stream",
     "text": [
      "torch.Size([1, 10, 10])\n",
      "torch.Size([10, 10])\n",
      "Label: 4\n"
     ]
    },
    {
     "data": {
      "text/plain": [
       "<matplotlib.image.AxesImage at 0xd040518>"
      ]
     },
     "execution_count": 4,
     "metadata": {},
     "output_type": "execute_result"
    }
   ],
   "source": [
    "import matplotlib.pyplot as plt\n",
    "img = trainset[2][0]\n",
    "print(img.shape)\n",
    "img = img.reshape(10, 10)\n",
    "print(img.shape)\n",
    "print('Label: {}'.format(trainset[2][1].item()))\n",
    "plt.gray()\n",
    "plt.imshow(img)"
   ]
  },
  {
   "cell_type": "code",
   "execution_count": 5,
   "metadata": {},
   "outputs": [],
   "source": [
    "dataloaders = {'train': torch.utils.data.DataLoader(trainset, batch_size=4, sampler=train_sampler),\n",
    "               'val': torch.utils.data.DataLoader(trainset, batch_size=4, sampler=valid_sampler),\n",
    "               'test': torch.utils.data.DataLoader(testset, batch_size=4, shuffle=False)\n",
    "              }"
   ]
  },
  {
   "cell_type": "code",
   "execution_count": 6,
   "metadata": {},
   "outputs": [],
   "source": [
    "data_lengths = {'train': len(train_indices), 'val': len(val_indices), 'test': len(testset)}"
   ]
  },
  {
   "cell_type": "code",
   "execution_count": 14,
   "metadata": {},
   "outputs": [],
   "source": [
    "class Net(nn.Module):\n",
    "    def __init__(self):\n",
    "        super(Net, self).__init__()\n",
    "        self.fc1 = nn.Linear(100, 25)\n",
    "        self.fc2 = nn.Linear(25, 10)\n",
    "        \n",
    "    def forward(self, x):\n",
    "        z1 = F.relu(self.fc1(x.view(4, -1)))\n",
    "        out = self.fc2(z1)\n",
    "        return out, z1\n",
    "    \n",
    "net = Net()"
   ]
  },
  {
   "cell_type": "code",
   "execution_count": 15,
   "metadata": {},
   "outputs": [],
   "source": [
    "criterion = nn.CrossEntropyLoss()\n",
    "optimizer = torch.optim.SGD(net.parameters(), lr=0.001, momentum=0.9)"
   ]
  },
  {
   "cell_type": "code",
   "execution_count": 16,
   "metadata": {},
   "outputs": [
    {
     "name": "stdout",
     "output_type": "stream",
     "text": [
      "Epoch: 1/50\n",
      "==========\n",
      "train Loss: 0.7566,  Acc: 0.7972\n",
      "val Loss: 0.3988,  Acc: 0.8817\n",
      "\n",
      "Epoch: 2/50\n",
      "==========\n",
      "train Loss: 0.3517,  Acc: 0.8976\n",
      "val Loss: 0.3442,  Acc: 0.8980\n",
      "\n",
      "Epoch: 3/50\n",
      "==========\n",
      "train Loss: 0.3119,  Acc: 0.9071\n",
      "val Loss: 0.3138,  Acc: 0.9045\n",
      "\n",
      "Epoch: 4/50\n",
      "==========\n",
      "train Loss: 0.2856,  Acc: 0.9158\n",
      "val Loss: 0.2989,  Acc: 0.9123\n",
      "\n",
      "Epoch: 5/50\n",
      "==========\n",
      "train Loss: 0.2646,  Acc: 0.9223\n",
      "val Loss: 0.2755,  Acc: 0.9147\n",
      "\n",
      "Epoch: 6/50\n",
      "==========\n",
      "train Loss: 0.2481,  Acc: 0.9269\n",
      "val Loss: 0.2619,  Acc: 0.9225\n",
      "\n",
      "Epoch: 7/50\n",
      "==========\n",
      "train Loss: 0.2344,  Acc: 0.9310\n",
      "val Loss: 0.2481,  Acc: 0.9248\n",
      "\n",
      "Epoch: 8/50\n",
      "==========\n",
      "train Loss: 0.2232,  Acc: 0.9341\n",
      "val Loss: 0.2415,  Acc: 0.9282\n",
      "\n",
      "Epoch: 9/50\n",
      "==========\n",
      "train Loss: 0.2132,  Acc: 0.9371\n",
      "val Loss: 0.2298,  Acc: 0.9290\n",
      "\n",
      "Epoch: 10/50\n",
      "==========\n",
      "train Loss: 0.2054,  Acc: 0.9395\n",
      "val Loss: 0.2243,  Acc: 0.9327\n",
      "\n",
      "Epoch: 11/50\n",
      "==========\n",
      "train Loss: 0.1981,  Acc: 0.9416\n",
      "val Loss: 0.2134,  Acc: 0.9358\n",
      "\n",
      "Epoch: 12/50\n",
      "==========\n",
      "train Loss: 0.1926,  Acc: 0.9428\n",
      "val Loss: 0.2110,  Acc: 0.9378\n",
      "\n",
      "Epoch: 13/50\n",
      "==========\n",
      "train Loss: 0.1873,  Acc: 0.9435\n",
      "val Loss: 0.1994,  Acc: 0.9398\n",
      "\n",
      "Epoch: 14/50\n",
      "==========\n",
      "train Loss: 0.1820,  Acc: 0.9454\n",
      "val Loss: 0.1978,  Acc: 0.9405\n",
      "\n",
      "Epoch: 15/50\n",
      "==========\n",
      "train Loss: 0.1783,  Acc: 0.9468\n",
      "val Loss: 0.1943,  Acc: 0.9393\n",
      "\n",
      "Epoch: 16/50\n",
      "==========\n",
      "train Loss: 0.1741,  Acc: 0.9478\n",
      "val Loss: 0.1936,  Acc: 0.9398\n",
      "\n",
      "Epoch: 17/50\n",
      "==========\n",
      "train Loss: 0.1709,  Acc: 0.9490\n",
      "val Loss: 0.1853,  Acc: 0.9420\n",
      "\n",
      "Epoch: 18/50\n",
      "==========\n",
      "train Loss: 0.1672,  Acc: 0.9499\n",
      "val Loss: 0.1848,  Acc: 0.9450\n",
      "\n",
      "Epoch: 19/50\n",
      "==========\n",
      "train Loss: 0.1644,  Acc: 0.9507\n",
      "val Loss: 0.1759,  Acc: 0.9462\n",
      "\n",
      "Epoch: 20/50\n",
      "==========\n",
      "train Loss: 0.1618,  Acc: 0.9514\n",
      "val Loss: 0.1754,  Acc: 0.9445\n",
      "\n",
      "Epoch: 21/50\n",
      "==========\n",
      "train Loss: 0.1583,  Acc: 0.9523\n",
      "val Loss: 0.1737,  Acc: 0.9462\n",
      "\n",
      "Epoch: 22/50\n",
      "==========\n",
      "train Loss: 0.1564,  Acc: 0.9534\n",
      "val Loss: 0.1693,  Acc: 0.9470\n",
      "\n",
      "Epoch: 23/50\n",
      "==========\n",
      "train Loss: 0.1536,  Acc: 0.9538\n",
      "val Loss: 0.1668,  Acc: 0.9488\n",
      "\n",
      "Epoch: 24/50\n",
      "==========\n",
      "train Loss: 0.1520,  Acc: 0.9538\n",
      "val Loss: 0.1671,  Acc: 0.9470\n",
      "\n",
      "Epoch: 25/50\n",
      "==========\n",
      "train Loss: 0.1490,  Acc: 0.9556\n",
      "val Loss: 0.1655,  Acc: 0.9482\n",
      "\n",
      "Epoch: 26/50\n",
      "==========\n",
      "train Loss: 0.1472,  Acc: 0.9554\n",
      "val Loss: 0.1637,  Acc: 0.9512\n",
      "\n",
      "Epoch: 27/50\n",
      "==========\n",
      "train Loss: 0.1455,  Acc: 0.9564\n",
      "val Loss: 0.1659,  Acc: 0.9477\n",
      "\n",
      "Epoch: 28/50\n",
      "==========\n",
      "train Loss: 0.1436,  Acc: 0.9571\n",
      "val Loss: 0.1605,  Acc: 0.9507\n",
      "\n",
      "Epoch: 29/50\n",
      "==========\n",
      "train Loss: 0.1420,  Acc: 0.9573\n",
      "val Loss: 0.1696,  Acc: 0.9463\n",
      "\n",
      "Epoch: 30/50\n",
      "==========\n",
      "train Loss: 0.1405,  Acc: 0.9576\n",
      "val Loss: 0.1584,  Acc: 0.9500\n",
      "\n",
      "Epoch: 31/50\n",
      "==========\n",
      "train Loss: 0.1396,  Acc: 0.9578\n",
      "val Loss: 0.1552,  Acc: 0.9532\n",
      "\n",
      "Epoch: 32/50\n",
      "==========\n",
      "train Loss: 0.1377,  Acc: 0.9595\n",
      "val Loss: 0.1597,  Acc: 0.9507\n",
      "\n",
      "Epoch: 33/50\n",
      "==========\n",
      "train Loss: 0.1359,  Acc: 0.9592\n",
      "val Loss: 0.1497,  Acc: 0.9537\n",
      "\n",
      "Epoch: 34/50\n",
      "==========\n",
      "train Loss: 0.1344,  Acc: 0.9596\n",
      "val Loss: 0.1501,  Acc: 0.9528\n",
      "\n",
      "Epoch: 35/50\n",
      "==========\n",
      "train Loss: 0.1333,  Acc: 0.9599\n",
      "val Loss: 0.1484,  Acc: 0.9552\n",
      "\n",
      "Epoch: 36/50\n",
      "==========\n",
      "train Loss: 0.1320,  Acc: 0.9602\n",
      "val Loss: 0.1460,  Acc: 0.9533\n",
      "\n",
      "Epoch: 37/50\n",
      "==========\n",
      "train Loss: 0.1304,  Acc: 0.9611\n",
      "val Loss: 0.1478,  Acc: 0.9527\n",
      "\n",
      "Epoch: 38/50\n",
      "==========\n",
      "train Loss: 0.1299,  Acc: 0.9607\n",
      "val Loss: 0.1472,  Acc: 0.9560\n",
      "\n",
      "Epoch: 39/50\n",
      "==========\n",
      "train Loss: 0.1281,  Acc: 0.9624\n",
      "val Loss: 0.1469,  Acc: 0.9562\n",
      "\n",
      "Epoch: 40/50\n",
      "==========\n",
      "train Loss: 0.1268,  Acc: 0.9625\n",
      "val Loss: 0.1453,  Acc: 0.9550\n",
      "\n",
      "Epoch: 41/50\n",
      "==========\n",
      "train Loss: 0.1254,  Acc: 0.9623\n",
      "val Loss: 0.1449,  Acc: 0.9567\n",
      "\n",
      "Epoch: 42/50\n",
      "==========\n",
      "train Loss: 0.1249,  Acc: 0.9630\n",
      "val Loss: 0.1441,  Acc: 0.9542\n",
      "\n",
      "Epoch: 43/50\n",
      "==========\n",
      "train Loss: 0.1239,  Acc: 0.9632\n",
      "val Loss: 0.1470,  Acc: 0.9543\n",
      "\n",
      "Epoch: 44/50\n",
      "==========\n",
      "train Loss: 0.1230,  Acc: 0.9626\n",
      "val Loss: 0.1390,  Acc: 0.9550\n",
      "\n",
      "Epoch: 45/50\n",
      "==========\n",
      "train Loss: 0.1216,  Acc: 0.9641\n",
      "val Loss: 0.1432,  Acc: 0.9568\n",
      "\n",
      "Epoch: 46/50\n",
      "==========\n",
      "train Loss: 0.1209,  Acc: 0.9638\n",
      "val Loss: 0.1404,  Acc: 0.9592\n",
      "\n",
      "Epoch: 47/50\n",
      "==========\n",
      "train Loss: 0.1197,  Acc: 0.9639\n",
      "val Loss: 0.1339,  Acc: 0.9578\n",
      "\n",
      "Epoch: 48/50\n",
      "==========\n",
      "train Loss: 0.1190,  Acc: 0.9647\n",
      "val Loss: 0.1400,  Acc: 0.9555\n",
      "\n",
      "Epoch: 49/50\n",
      "==========\n",
      "train Loss: 0.1176,  Acc: 0.9650\n",
      "val Loss: 0.1360,  Acc: 0.9593\n",
      "\n",
      "Epoch: 50/50\n",
      "==========\n",
      "train Loss: 0.1169,  Acc: 0.9650\n",
      "val Loss: 0.1362,  Acc: 0.9580\n",
      "\n",
      "Finished Training\n"
     ]
    }
   ],
   "source": [
    "num_epochs = 50\n",
    "fc2_norm = []\n",
    "fc1_norm = []\n",
    "train_loss = []\n",
    "train_acc = []\n",
    "val_loss = []\n",
    "val_acc = []\n",
    "\n",
    "for epoch in range(num_epochs):\n",
    "    print('Epoch: {}/{}'.format(epoch+1, num_epochs))\n",
    "    print('='*10)\n",
    "    \n",
    "    for phase in ['train', 'val']:\n",
    "        running_loss = 0.0\n",
    "        running_corrects = 0\n",
    "        for i, data in enumerate(dataloaders[phase]):\n",
    "            inputs, labels = data\n",
    "            optimizer.zero_grad()\n",
    "            outputs = net(inputs)\n",
    "            _, preds = torch.max(outputs[0], 1)\n",
    "            loss = criterion(outputs[0], labels)\n",
    "            if phase == 'train':\n",
    "                loss.backward()\n",
    "                optimizer.step()\n",
    "            running_loss += loss.item() * inputs.size(0)\n",
    "            running_corrects += torch.sum(preds == labels.data).item()\n",
    "        epoch_loss = running_loss/data_lengths[phase]\n",
    "        epoch_acc = running_corrects/data_lengths[phase]\n",
    "        \n",
    "        if phase == 'train':\n",
    "            fc1_norm.append(net.fc1.weight.grad.norm().item())\n",
    "            fc2_norm.append(net.fc2.weight.grad.norm().item())\n",
    "            train_loss.append(epoch_loss)\n",
    "            train_acc.append(epoch_acc)\n",
    "        else:\n",
    "            val_loss.append(epoch_loss)\n",
    "            val_acc.append(epoch_acc)            \n",
    "        print('{} Loss: {:.4f},  Acc: {:.4f}'.format(phase, epoch_loss, epoch_acc))\n",
    "    print()\n",
    "print('Finished Training')"
   ]
  },
  {
   "cell_type": "code",
   "execution_count": 17,
   "metadata": {},
   "outputs": [
    {
     "data": {
      "image/png": "[encoded data removed]",
      "text/plain": [
       "<Figure size 864x720 with 4 Axes>"
      ]
     },
     "metadata": {
      "needs_background": "light"
     },
     "output_type": "display_data"
    }
   ],
   "source": [
    "epoch_idx = [i for i in range(num_epochs)]\n",
    "plt.figure(figsize=(12, 10))\n",
    "\n",
    "plt.subplot(221)\n",
    "plt.plot(epoch_idx, fc1_norm)\n",
    "plt.xlabel('epochs')\n",
    "plt.ylabel('fc1-norm')\n",
    "\n",
    "plt.subplot(222)\n",
    "plt.plot(epoch_idx, fc1_norm)\n",
    "plt.xlabel('epochs')\n",
    "plt.ylabel('fc2-norm')\n",
    "\n",
    "\n",
    "plt.subplot(223)\n",
    "plt.plot(epoch_idx, train_loss)\n",
    "plt.plot(epoch_idx, val_loss)\n",
    "plt.xlabel('epochs')\n",
    "plt.ylabel('loss')\n",
    "plt.legend(['train', 'test'], loc='upper left')\n",
    "\n",
    "plt.subplot(224)\n",
    "plt.plot(epoch_idx, train_acc)\n",
    "plt.plot(epoch_idx, val_acc)\n",
    "plt.xlabel('epochs')\n",
    "plt.ylabel('accuracy')\n",
    "plt.legend(['train', 'test'], loc='upper left')\n",
    "\n",
    "plt.show()"
   ]
  },
  {
   "cell_type": "code",
   "execution_count": 19,
   "metadata": {},
   "outputs": [
    {
     "name": "stdout",
     "output_type": "stream",
     "text": [
      "test acc: 0.9645\n"
     ]
    }
   ],
   "source": [
    "running_correct = 0\n",
    "for data in dataloaders['test']:\n",
    "    images, labels = data\n",
    "    outputs = net(images)\n",
    "    _, preds = torch.max(outputs[0], 1)\n",
    "    running_correct += (preds == labels).sum().item()\n",
    "\n",
    "print('test acc: {}'.format(running_correct/len(testset)))"
   ]
  },
  {
   "cell_type": "code",
   "execution_count": 20,
   "metadata": {},
   "outputs": [
    {
     "name": "stderr",
     "output_type": "stream",
     "text": [
      "C:\\Users\\ADMIN\\Anaconda3\\envs\\machlearn\\lib\\site-packages\\torch\\serialization.py:241: UserWarning: Couldn't retrieve source code for container of type Net. It won't be checked for correctness upon loading.\n",
      "  \"type \" + obj.__name__ + \". It won't be checked \"\n"
     ]
    }
   ],
   "source": [
    "torch.save(net, 'trained-models/net_02.pth')"
   ]
  },
  {
   "cell_type": "code",
   "execution_count": 21,
   "metadata": {},
   "outputs": [],
   "source": [
    "model = torch.load('trained-models/net_02.pth')"
   ]
  },
  {
   "cell_type": "code",
   "execution_count": 22,
   "metadata": {},
   "outputs": [
    {
     "data": {
      "text/plain": [
       "<matplotlib.image.AxesImage at 0x55d89b0>"
      ]
     },
     "execution_count": 22,
     "metadata": {},
     "output_type": "execute_result"
    },
    {
     "data": {
      "image/png": "[encoded data removed]",
      "text/plain": [
       "<Figure size 1080x360 with 1 Axes>"
      ]
     },
     "metadata": {
      "needs_background": "light"
     },
     "output_type": "display_data"
    }
   ],
   "source": [
    "plt.figure(figsize=(15, 5))\n",
    "plt.imshow(model.fc1.weight.data)"
   ]
  },
  {
   "cell_type": "code",
   "execution_count": 23,
   "metadata": {},
   "outputs": [
    {
     "data": {
      "text/plain": [
       "<matplotlib.image.AxesImage at 0xd307f60>"
      ]
     },
     "execution_count": 23,
     "metadata": {},
     "output_type": "execute_result"
    },
    {
     "data": {
      "image/png": "[encoded data removed]",
      "text/plain": [
       "<Figure size 1080x360 with 1 Axes>"
      ]
     },
     "metadata": {
      "needs_background": "light"
     },
     "output_type": "display_data"
    }
   ],
   "source": [
    "plt.figure(figsize=(15, 5))\n",
    "plt.imshow(model.fc2.weight.data)"
   ]
  }
 ],
 "metadata": {
  "kernelspec": {
   "display_name": "Python 3",
   "language": "python",
   "name": "python3"
  },
  "language_info": {
   "codemirror_mode": {
    "name": "ipython",
    "version": 3
   },
   "file_extension": ".py",
   "mimetype": "text/x-python",
   "name": "python",
   "nbconvert_exporter": "python",
   "pygments_lexer": "ipython3",
   "version": "3.6.6"
  }
 },
 "nbformat": 4,
 "nbformat_minor": 2
}
