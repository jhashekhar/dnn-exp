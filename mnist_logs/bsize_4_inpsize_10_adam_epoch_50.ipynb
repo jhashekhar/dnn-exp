{
 "cells": [
  {
   "cell_type": "code",
   "execution_count": 2,
   "metadata": {},
   "outputs": [],
   "source": [
    "import numpy as np\n",
    "import torch\n",
    "import torch.nn.functional as F\n",
    "import torch.nn as nn\n",
    "from torch.utils.data.sampler import SubsetRandomSampler\n",
    "import torchvision\n",
    "from torchvision import transforms"
   ]
  },
  {
   "cell_type": "code",
   "execution_count": 3,
   "metadata": {},
   "outputs": [],
   "source": [
    "trainset = torchvision.datasets.MNIST(root='data/', \n",
    "                                      train=True, \n",
    "                                      transform = torchvision.transforms.Compose([\n",
    "                                          transforms.Resize(10),\n",
    "                                          transforms.ToTensor()]),\n",
    "                                      download=True)\n",
    "\n",
    "testset = torchvision.datasets.MNIST(root='data/', \n",
    "                                     train=False,\n",
    "                                     transform = torchvision.transforms.Compose([\n",
    "                                         transforms.Resize(10), \n",
    "                                         transforms.ToTensor()]), \n",
    "                                     download=True)"
   ]
  },
  {
   "cell_type": "code",
   "execution_count": 4,
   "metadata": {},
   "outputs": [],
   "source": [
    "split = 0.1\n",
    "dataset_size = len(trainset)\n",
    "indices = list(range(dataset_size))\n",
    "np.random.shuffle(indices)\n",
    "val_split = int(np.floor(split * dataset_size))\n",
    "train_indices = indices[val_split:]\n",
    "val_indices = indices[:val_split] \n",
    "\n",
    "train_sampler = SubsetRandomSampler(train_indices)\n",
    "valid_sampler = SubsetRandomSampler(val_indices)"
   ]
  },
  {
   "cell_type": "code",
   "execution_count": 5,
   "metadata": {},
   "outputs": [
    {
     "name": "stdout",
     "output_type": "stream",
     "text": [
      "torch.Size([1, 10, 10])\n",
      "torch.Size([10, 10])\n",
      "Label: 4\n"
     ]
    },
    {
     "data": {
      "text/plain": [
       "<matplotlib.image.AxesImage at 0xce1dcf8>"
      ]
     },
     "execution_count": 5,
     "metadata": {},
     "output_type": "execute_result"
    }
   ],
   "source": [
    "import matplotlib.pyplot as plt\n",
    "img = trainset[2][0]\n",
    "print(img.shape)\n",
    "img = img.reshape(10, 10)\n",
    "print(img.shape)\n",
    "print('Label: {}'.format(trainset[2][1].item()))\n",
    "plt.gray()\n",
    "plt.imshow(img)"
   ]
  },
  {
   "cell_type": "code",
   "execution_count": 6,
   "metadata": {},
   "outputs": [],
   "source": [
    "dataloaders = {'train': torch.utils.data.DataLoader(trainset, batch_size=4, sampler=train_sampler),\n",
    "               'val': torch.utils.data.DataLoader(trainset, batch_size=4, sampler=valid_sampler),\n",
    "               'test': torch.utils.data.DataLoader(testset, batch_size=4, shuffle=False)\n",
    "              }"
   ]
  },
  {
   "cell_type": "code",
   "execution_count": 7,
   "metadata": {},
   "outputs": [],
   "source": [
    "data_lengths = {'train': len(train_indices), 'val': len(val_indices), 'test': len(testset)}"
   ]
  },
  {
   "cell_type": "code",
   "execution_count": 8,
   "metadata": {},
   "outputs": [],
   "source": [
    "class Net(nn.Module):\n",
    "    def __init__(self):\n",
    "        super(Net, self).__init__()\n",
    "        self.fc1 = nn.Linear(100, 25)\n",
    "        self.fc2 = nn.Linear(25, 10)\n",
    "        \n",
    "    def forward(self, x):\n",
    "        z1 = F.relu(self.fc1(x.view(4, -1)))\n",
    "        out = self.fc2(z1)\n",
    "        return out, z1\n",
    "    \n",
    "net = Net()"
   ]
  },
  {
   "cell_type": "code",
   "execution_count": 10,
   "metadata": {},
   "outputs": [],
   "source": [
    "criterion = nn.CrossEntropyLoss()\n",
    "optimizer = torch.optim.Adam(net.parameters(), lr=0.001, betas=(0.9, 0.999))"
   ]
  },
  {
   "cell_type": "code",
   "execution_count": 11,
   "metadata": {},
   "outputs": [
    {
     "name": "stdout",
     "output_type": "stream",
     "text": [
      "Epoch: 1/50\n",
      "==========\n",
      "train Loss: 0.4664,  Acc: 0.8700\n",
      "val Loss: 0.3130,  Acc: 0.9113\n",
      "\n",
      "Epoch: 2/50\n",
      "==========\n",
      "train Loss: 0.2757,  Acc: 0.9183\n",
      "val Loss: 0.2473,  Acc: 0.9288\n",
      "\n",
      "Epoch: 3/50\n",
      "==========\n",
      "train Loss: 0.2309,  Acc: 0.9311\n",
      "val Loss: 0.2189,  Acc: 0.9382\n",
      "\n",
      "Epoch: 4/50\n",
      "==========\n",
      "train Loss: 0.2049,  Acc: 0.9391\n",
      "val Loss: 0.2041,  Acc: 0.9428\n",
      "\n",
      "Epoch: 5/50\n",
      "==========\n",
      "train Loss: 0.1890,  Acc: 0.9439\n",
      "val Loss: 0.1932,  Acc: 0.9473\n",
      "\n",
      "Epoch: 6/50\n",
      "==========\n",
      "train Loss: 0.1785,  Acc: 0.9467\n",
      "val Loss: 0.1846,  Acc: 0.9478\n",
      "\n",
      "Epoch: 7/50\n",
      "==========\n",
      "train Loss: 0.1700,  Acc: 0.9491\n",
      "val Loss: 0.1822,  Acc: 0.9505\n",
      "\n",
      "Epoch: 8/50\n",
      "==========\n",
      "train Loss: 0.1636,  Acc: 0.9510\n",
      "val Loss: 0.1731,  Acc: 0.9510\n",
      "\n",
      "Epoch: 9/50\n",
      "==========\n",
      "train Loss: 0.1573,  Acc: 0.9523\n",
      "val Loss: 0.1794,  Acc: 0.9502\n",
      "\n",
      "Epoch: 10/50\n",
      "==========\n",
      "train Loss: 0.1527,  Acc: 0.9538\n",
      "val Loss: 0.1708,  Acc: 0.9540\n",
      "\n",
      "Epoch: 11/50\n",
      "==========\n",
      "train Loss: 0.1490,  Acc: 0.9553\n",
      "val Loss: 0.1705,  Acc: 0.9533\n",
      "\n",
      "Epoch: 12/50\n",
      "==========\n",
      "train Loss: 0.1451,  Acc: 0.9567\n",
      "val Loss: 0.1614,  Acc: 0.9552\n",
      "\n",
      "Epoch: 13/50\n",
      "==========\n",
      "train Loss: 0.1424,  Acc: 0.9571\n",
      "val Loss: 0.1663,  Acc: 0.9563\n",
      "\n",
      "Epoch: 14/50\n",
      "==========\n",
      "train Loss: 0.1393,  Acc: 0.9575\n",
      "val Loss: 0.1671,  Acc: 0.9533\n",
      "\n",
      "Epoch: 15/50\n",
      "==========\n",
      "train Loss: 0.1367,  Acc: 0.9584\n",
      "val Loss: 0.1522,  Acc: 0.9567\n",
      "\n",
      "Epoch: 16/50\n",
      "==========\n",
      "train Loss: 0.1347,  Acc: 0.9586\n",
      "val Loss: 0.1620,  Acc: 0.9545\n",
      "\n",
      "Epoch: 17/50\n",
      "==========\n",
      "train Loss: 0.1320,  Acc: 0.9600\n",
      "val Loss: 0.1612,  Acc: 0.9570\n",
      "\n",
      "Epoch: 18/50\n",
      "==========\n",
      "train Loss: 0.1310,  Acc: 0.9599\n",
      "val Loss: 0.1512,  Acc: 0.9603\n",
      "\n",
      "Epoch: 19/50\n",
      "==========\n",
      "train Loss: 0.1288,  Acc: 0.9607\n",
      "val Loss: 0.1553,  Acc: 0.9562\n",
      "\n",
      "Epoch: 20/50\n",
      "==========\n",
      "train Loss: 0.1261,  Acc: 0.9616\n",
      "val Loss: 0.1512,  Acc: 0.9597\n",
      "\n",
      "Epoch: 21/50\n",
      "==========\n",
      "train Loss: 0.1248,  Acc: 0.9615\n",
      "val Loss: 0.1461,  Acc: 0.9592\n",
      "\n",
      "Epoch: 22/50\n",
      "==========\n",
      "train Loss: 0.1236,  Acc: 0.9618\n",
      "val Loss: 0.1504,  Acc: 0.9590\n",
      "\n",
      "Epoch: 23/50\n",
      "==========\n",
      "train Loss: 0.1219,  Acc: 0.9620\n",
      "val Loss: 0.1484,  Acc: 0.9580\n",
      "\n",
      "Epoch: 24/50\n",
      "==========\n",
      "train Loss: 0.1213,  Acc: 0.9629\n",
      "val Loss: 0.1545,  Acc: 0.9578\n",
      "\n",
      "Epoch: 25/50\n",
      "==========\n",
      "train Loss: 0.1199,  Acc: 0.9625\n",
      "val Loss: 0.1426,  Acc: 0.9598\n",
      "\n",
      "Epoch: 26/50\n",
      "==========\n",
      "train Loss: 0.1178,  Acc: 0.9642\n",
      "val Loss: 0.1539,  Acc: 0.9577\n",
      "\n",
      "Epoch: 27/50\n",
      "==========\n",
      "train Loss: 0.1162,  Acc: 0.9644\n",
      "val Loss: 0.1422,  Acc: 0.9608\n",
      "\n",
      "Epoch: 28/50\n",
      "==========\n",
      "train Loss: 0.1156,  Acc: 0.9642\n",
      "val Loss: 0.1489,  Acc: 0.9582\n",
      "\n",
      "Epoch: 29/50\n",
      "==========\n",
      "train Loss: 0.1146,  Acc: 0.9646\n",
      "val Loss: 0.1474,  Acc: 0.9608\n",
      "\n",
      "Epoch: 30/50\n",
      "==========\n",
      "train Loss: 0.1138,  Acc: 0.9649\n",
      "val Loss: 0.1432,  Acc: 0.9597\n",
      "\n",
      "Epoch: 31/50\n",
      "==========\n",
      "train Loss: 0.1127,  Acc: 0.9649\n",
      "val Loss: 0.1444,  Acc: 0.9608\n",
      "\n",
      "Epoch: 32/50\n",
      "==========\n",
      "train Loss: 0.1118,  Acc: 0.9656\n",
      "val Loss: 0.1431,  Acc: 0.9600\n",
      "\n",
      "Epoch: 33/50\n",
      "==========\n",
      "train Loss: 0.1090,  Acc: 0.9667\n",
      "val Loss: 0.1400,  Acc: 0.9635\n",
      "\n",
      "Epoch: 34/50\n",
      "==========\n",
      "train Loss: 0.1088,  Acc: 0.9663\n",
      "val Loss: 0.1437,  Acc: 0.9618\n",
      "\n",
      "Epoch: 35/50\n",
      "==========\n",
      "train Loss: 0.1081,  Acc: 0.9666\n",
      "val Loss: 0.1475,  Acc: 0.9590\n",
      "\n",
      "Epoch: 36/50\n",
      "==========\n",
      "train Loss: 0.1070,  Acc: 0.9671\n",
      "val Loss: 0.1389,  Acc: 0.9620\n",
      "\n",
      "Epoch: 37/50\n",
      "==========\n",
      "train Loss: 0.1060,  Acc: 0.9678\n",
      "val Loss: 0.1377,  Acc: 0.9623\n",
      "\n",
      "Epoch: 38/50\n",
      "==========\n",
      "train Loss: 0.1053,  Acc: 0.9672\n",
      "val Loss: 0.1401,  Acc: 0.9617\n",
      "\n",
      "Epoch: 39/50\n",
      "==========\n",
      "train Loss: 0.1045,  Acc: 0.9683\n",
      "val Loss: 0.1477,  Acc: 0.9580\n",
      "\n",
      "Epoch: 40/50\n",
      "==========\n",
      "train Loss: 0.1045,  Acc: 0.9681\n",
      "val Loss: 0.1430,  Acc: 0.9617\n",
      "\n",
      "Epoch: 41/50\n",
      "==========\n",
      "train Loss: 0.1029,  Acc: 0.9683\n",
      "val Loss: 0.1376,  Acc: 0.9622\n",
      "\n",
      "Epoch: 42/50\n",
      "==========\n",
      "train Loss: 0.1031,  Acc: 0.9686\n",
      "val Loss: 0.1428,  Acc: 0.9615\n",
      "\n",
      "Epoch: 43/50\n",
      "==========\n",
      "train Loss: 0.1020,  Acc: 0.9688\n",
      "val Loss: 0.1439,  Acc: 0.9608\n",
      "\n",
      "Epoch: 44/50\n",
      "==========\n",
      "train Loss: 0.1017,  Acc: 0.9686\n",
      "val Loss: 0.1352,  Acc: 0.9662\n",
      "\n",
      "Epoch: 45/50\n",
      "==========\n",
      "train Loss: 0.1007,  Acc: 0.9693\n",
      "val Loss: 0.1478,  Acc: 0.9608\n",
      "\n",
      "Epoch: 46/50\n",
      "==========\n",
      "train Loss: 0.0997,  Acc: 0.9685\n",
      "val Loss: 0.1401,  Acc: 0.9618\n",
      "\n",
      "Epoch: 47/50\n",
      "==========\n",
      "train Loss: 0.0995,  Acc: 0.9695\n",
      "val Loss: 0.1399,  Acc: 0.9618\n",
      "\n",
      "Epoch: 48/50\n",
      "==========\n",
      "train Loss: 0.0994,  Acc: 0.9693\n",
      "val Loss: 0.1368,  Acc: 0.9633\n",
      "\n",
      "Epoch: 49/50\n",
      "==========\n",
      "train Loss: 0.0985,  Acc: 0.9694\n",
      "val Loss: 0.1430,  Acc: 0.9615\n",
      "\n",
      "Epoch: 50/50\n",
      "==========\n",
      "train Loss: 0.0985,  Acc: 0.9692\n",
      "val Loss: 0.1438,  Acc: 0.9610\n",
      "\n",
      "Finished Training\n"
     ]
    }
   ],
   "source": [
    "num_epochs = 50\n",
    "fc2_norm = []\n",
    "fc1_norm = []\n",
    "train_loss = []\n",
    "train_acc = []\n",
    "val_loss = []\n",
    "val_acc = []\n",
    "\n",
    "for epoch in range(num_epochs):\n",
    "    print('Epoch: {}/{}'.format(epoch+1, num_epochs))\n",
    "    print('='*10)\n",
    "    \n",
    "    for phase in ['train', 'val']:\n",
    "        running_loss = 0.0\n",
    "        running_corrects = 0\n",
    "        for i, data in enumerate(dataloaders[phase]):\n",
    "            inputs, labels = data\n",
    "            optimizer.zero_grad()\n",
    "            outputs = net(inputs)\n",
    "            _, preds = torch.max(outputs[0], 1)\n",
    "            loss = criterion(outputs[0], labels)\n",
    "            if phase == 'train':\n",
    "                loss.backward()\n",
    "                optimizer.step()\n",
    "            running_loss += loss.item() * inputs.size(0)\n",
    "            running_corrects += torch.sum(preds == labels.data).item()\n",
    "        epoch_loss = running_loss/data_lengths[phase]\n",
    "        epoch_acc = running_corrects/data_lengths[phase]\n",
    "        \n",
    "        if phase == 'train':\n",
    "            fc1_norm.append(net.fc1.weight.grad.norm().item())\n",
    "            fc2_norm.append(net.fc2.weight.grad.norm().item())\n",
    "            train_loss.append(epoch_loss)\n",
    "            train_acc.append(epoch_acc)\n",
    "        else:\n",
    "            val_loss.append(epoch_loss)\n",
    "            val_acc.append(epoch_acc)            \n",
    "        print('{} Loss: {:.4f},  Acc: {:.4f}'.format(phase, epoch_loss, epoch_acc))\n",
    "    print()\n",
    "print('Finished Training')"
   ]
  },
  {
   "cell_type": "code",
   "execution_count": 12,
   "metadata": {},
   "outputs": [
    {
     "data": {
      "image/png": "[encoded data removed]",
      "text/plain": [
       "<Figure size 864x720 with 4 Axes>"
      ]
     },
     "metadata": {
      "needs_background": "light"
     },
     "output_type": "display_data"
    }
   ],
   "source": [
    "epoch_idx = [i for i in range(num_epochs)]\n",
    "plt.figure(figsize=(12, 10))\n",
    "\n",
    "plt.subplot(221)\n",
    "plt.plot(epoch_idx, fc1_norm)\n",
    "plt.xlabel('epochs')\n",
    "plt.ylabel('fc1-norm')\n",
    "\n",
    "plt.subplot(222)\n",
    "plt.plot(epoch_idx, fc1_norm)\n",
    "plt.xlabel('epochs')\n",
    "plt.ylabel('fc2-norm')\n",
    "\n",
    "\n",
    "plt.subplot(223)\n",
    "plt.plot(epoch_idx, train_loss)\n",
    "plt.plot(epoch_idx, val_loss)\n",
    "plt.xlabel('epochs')\n",
    "plt.ylabel('loss')\n",
    "plt.legend(['train', 'test'], loc='upper left')\n",
    "\n",
    "plt.subplot(224)\n",
    "plt.plot(epoch_idx, train_acc)\n",
    "plt.plot(epoch_idx, val_acc)\n",
    "plt.xlabel('epochs')\n",
    "plt.ylabel('accuracy')\n",
    "plt.legend(['train', 'test'], loc='upper left')\n",
    "\n",
    "plt.show()"
   ]
  },
  {
   "cell_type": "code",
   "execution_count": 13,
   "metadata": {},
   "outputs": [
    {
     "name": "stdout",
     "output_type": "stream",
     "text": [
      "test acc: 0.9644\n"
     ]
    }
   ],
   "source": [
    "running_correct = 0\n",
    "for data in dataloaders['test']:\n",
    "    images, labels = data\n",
    "    outputs = net(images)\n",
    "    _, preds = torch.max(outputs[0], 1)\n",
    "    running_correct += (preds == labels).sum().item()\n",
    "\n",
    "print('test acc: {}'.format(running_correct/len(testset)))"
   ]
  },
  {
   "cell_type": "code",
   "execution_count": 27,
   "metadata": {},
   "outputs": [],
   "source": [
    "txt_list = ['train_loss', 'train_acc', 'val_loss', 'val_acc', 'fc1_norm', 'fc2_norm']\n",
    "txt_dict = {'train_loss': train_loss, \n",
    "            'train_acc': train_acc, \n",
    "            'val_loss': val_loss, \n",
    "            'val_acc': val_acc,\n",
    "            'fc1_norm': fc1_norm,\n",
    "            'fc2_norm': fc2_norm}"
   ]
  },
  {
   "cell_type": "code",
   "execution_count": 28,
   "metadata": {},
   "outputs": [],
   "source": [
    "with open('log_log_adam_epoch_50_bsize_4.txt', 'w') as f:\n",
    "    for item in txt_list:\n",
    "        f.write(item)\n",
    "        f.write(\"\\n\")\n",
    "        for i in txt_dict[item]:\n",
    "            f.write(\"%s, \" % i)\n",
    "        f.write(\"\\n\")"
   ]
  },
  {
   "cell_type": "code",
   "execution_count": 19,
   "metadata": {},
   "outputs": [],
   "source": [
    "with open('log_adam_epoch_50_bsize_4.txt', 'w') as f:\n",
    "    \n",
    "    f.write(\"train_loss\\n\")\n",
    "    for item in train_loss:\n",
    "        f.write(\"%s, \" % item)\n",
    "    f.write(\"\\n\")\n",
    "    \n",
    "    f.write(\"\\ntrain_acc\\n\")\n",
    "    for item in train_acc:\n",
    "        f.write(\"%s, \" % item)\n",
    "    f.write(\"\\n\")\n",
    "    \n",
    "    f.write(\"\\nval_loss\\n\")\n",
    "    for item in val_loss:\n",
    "        f.write(\"%s, \" % item)\n",
    "    f.write(\"\\n\")\n",
    "    \n",
    "    f.write(\"\\nval_acc\\n\")\n",
    "    for item in val_acc:\n",
    "        f.write(\"%s, \" % item)\n",
    "    f.write(\"\\n\")\n",
    "\n",
    "    f.write(\"\\nfc1_norm\\n\")\n",
    "    for item in fc1_norm:\n",
    "        f.write(\"%s, \" % item)\n",
    "    f.write(\"\\n\")\n",
    "          \n",
    "    f.write(\"\\nfc2_norm\\n\")\n",
    "    for item in fc2_norm:\n",
    "        f.write(\"%s, \" % item)\n",
    "    f.write(\"\\n\")"
   ]
  },
  {
   "cell_type": "code",
   "execution_count": 29,
   "metadata": {},
   "outputs": [
    {
     "name": "stderr",
     "output_type": "stream",
     "text": [
      "C:\\Users\\ADMIN\\Anaconda3\\envs\\machlearn\\lib\\site-packages\\torch\\serialization.py:241: UserWarning: Couldn't retrieve source code for container of type Net. It won't be checked for correctness upon loading.\n",
      "  \"type \" + obj.__name__ + \". It won't be checked \"\n"
     ]
    }
   ],
   "source": [
    "torch.save(net, 'trained-models/adam-epoch-50-bsize-4.pth')"
   ]
  },
  {
   "cell_type": "code",
   "execution_count": 30,
   "metadata": {},
   "outputs": [],
   "source": [
    "model = torch.load('trained-models/adam-epoch-50-bsize-4.pth')"
   ]
  },
  {
   "cell_type": "code",
   "execution_count": 31,
   "metadata": {},
   "outputs": [
    {
     "data": {
      "text/plain": [
       "<matplotlib.image.AxesImage at 0xd428080>"
      ]
     },
     "execution_count": 31,
     "metadata": {},
     "output_type": "execute_result"
    },
    {
     "data": {
      "image/png": "[encoded data removed]",
      "text/plain": [
       "<Figure size 1080x360 with 1 Axes>"
      ]
     },
     "metadata": {
      "needs_background": "light"
     },
     "output_type": "display_data"
    }
   ],
   "source": [
    "plt.figure(figsize=(15, 5))\n",
    "plt.imshow(model.fc1.weight.data)"
   ]
  },
  {
   "cell_type": "code",
   "execution_count": 32,
   "metadata": {},
   "outputs": [
    {
     "data": {
      "text/plain": [
       "<matplotlib.image.AxesImage at 0xd5f7630>"
      ]
     },
     "execution_count": 32,
     "metadata": {},
     "output_type": "execute_result"
    },
    {
     "data": {
      "image/png": "[encoded data removed]",
      "text/plain": [
       "<Figure size 1080x360 with 1 Axes>"
      ]
     },
     "metadata": {
      "needs_background": "light"
     },
     "output_type": "display_data"
    }
   ],
   "source": [
    "plt.figure(figsize=(15, 5))\n",
    "plt.imshow(model.fc2.weight.data)"
   ]
  }
 ],
 "metadata": {
  "kernelspec": {
   "display_name": "Python 3",
   "language": "python",
   "name": "python3"
  },
  "language_info": {
   "codemirror_mode": {
    "name": "ipython",
    "version": 3
   },
   "file_extension": ".py",
   "mimetype": "text/x-python",
   "name": "python",
   "nbconvert_exporter": "python",
   "pygments_lexer": "ipython3",
   "version": "3.6.6"
  }
 },
 "nbformat": 4,
 "nbformat_minor": 2
}
