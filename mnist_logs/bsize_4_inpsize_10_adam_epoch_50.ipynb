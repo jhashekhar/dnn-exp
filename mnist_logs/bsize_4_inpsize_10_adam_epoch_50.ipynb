{
 "cells": [
  {
   "cell_type": "code",
   "execution_count": 1,
   "metadata": {},
   "outputs": [],
   "source": [
    "import numpy as np\n",
    "import torch\n",
    "import torch.nn.functional as F\n",
    "import torch.nn as nn\n",
    "from torch.utils.data.sampler import SubsetRandomSampler\n",
    "import torchvision\n",
    "from torchvision import transforms"
   ]
  },
  {
   "cell_type": "code",
   "execution_count": 2,
   "metadata": {},
   "outputs": [],
   "source": [
    "trainset = torchvision.datasets.MNIST(root='data/', \n",
    "                                      train=True, \n",
    "                                      transform = torchvision.transforms.Compose([\n",
    "                                          transforms.Resize(10),\n",
    "                                          transforms.ToTensor()]),\n",
    "                                      download=True)\n",
    "\n",
    "testset = torchvision.datasets.MNIST(root='data/', \n",
    "                                     train=False,\n",
    "                                     transform = torchvision.transforms.Compose([\n",
    "                                         transforms.Resize(10), \n",
    "                                         transforms.ToTensor()]), \n",
    "                                     download=True)"
   ]
  },
  {
   "cell_type": "code",
   "execution_count": 3,
   "metadata": {},
   "outputs": [],
   "source": [
    "split = 0.1\n",
    "dataset_size = len(trainset)\n",
    "indices = list(range(dataset_size))\n",
    "np.random.shuffle(indices)\n",
    "val_split = int(np.floor(split * dataset_size))\n",
    "train_indices = indices[val_split:]\n",
    "val_indices = indices[:val_split] \n",
    "\n",
    "train_sampler = SubsetRandomSampler(train_indices)\n",
    "valid_sampler = SubsetRandomSampler(val_indices)"
   ]
  },
  {
   "cell_type": "code",
   "execution_count": 4,
   "metadata": {},
   "outputs": [
    {
     "name": "stdout",
     "output_type": "stream",
     "text": [
      "torch.Size([1, 10, 10])\n",
      "torch.Size([10, 10])\n",
      "Label: 4\n"
     ]
    },
    {
     "data": {
      "text/plain": [
       "<matplotlib.image.AxesImage at 0xd4b3940>"
      ]
     },
     "execution_count": 4,
     "metadata": {},
     "output_type": "execute_result"
    }
   ],
   "source": [
    "import matplotlib.pyplot as plt\n",
    "img = trainset[2][0]\n",
    "print(img.shape)\n",
    "img = img.reshape(10, 10)\n",
    "print(img.shape)\n",
    "print('Label: {}'.format(trainset[2][1].item()))\n",
    "plt.gray()\n",
    "plt.imshow(img)"
   ]
  },
  {
   "cell_type": "code",
   "execution_count": 5,
   "metadata": {},
   "outputs": [],
   "source": [
    "dataloaders = {'train': torch.utils.data.DataLoader(trainset, batch_size=4, sampler=train_sampler),\n",
    "               'val': torch.utils.data.DataLoader(trainset, batch_size=4, sampler=valid_sampler),\n",
    "               'test': torch.utils.data.DataLoader(testset, batch_size=4, shuffle=False)\n",
    "              }"
   ]
  },
  {
   "cell_type": "code",
   "execution_count": 6,
   "metadata": {},
   "outputs": [],
   "source": [
    "data_lengths = {'train': len(train_indices), 'val': len(val_indices), 'test': len(testset)}"
   ]
  },
  {
   "cell_type": "code",
   "execution_count": 7,
   "metadata": {},
   "outputs": [],
   "source": [
    "class Net(nn.Module):\n",
    "    def __init__(self):\n",
    "        super(Net, self).__init__()\n",
    "        self.fc1 = nn.Linear(100, 25)\n",
    "        self.fc2 = nn.Linear(25, 10)\n",
    "        \n",
    "    def forward(self, x):\n",
    "        z1 = F.relu(self.fc1(x.view(4, -1)))\n",
    "        out = self.fc2(z1)\n",
    "        return out, z1\n",
    "    \n",
    "net = Net()"
   ]
  },
  {
   "cell_type": "code",
   "execution_count": 8,
   "metadata": {},
   "outputs": [],
   "source": [
    "criterion = nn.CrossEntropyLoss()\n",
    "optimizer = torch.optim.Adam(net.parameters(), lr=0.001, betas=(0.9, 0.999))"
   ]
  },
  {
   "cell_type": "code",
   "execution_count": 9,
   "metadata": {},
   "outputs": [
    {
     "name": "stdout",
     "output_type": "stream",
     "text": [
      "Epoch: 1/50\n",
      "==========\n",
      "train Loss: 0.4709,  Acc: 0.8685\n",
      "val Loss: 0.2976,  Acc: 0.9128\n",
      "\n",
      "Epoch: 2/50\n",
      "==========\n",
      "train Loss: 0.2848,  Acc: 0.9167\n",
      "val Loss: 0.2501,  Acc: 0.9248\n",
      "\n",
      "Epoch: 3/50\n",
      "==========\n",
      "train Loss: 0.2387,  Acc: 0.9300\n",
      "val Loss: 0.2194,  Acc: 0.9355\n",
      "\n",
      "Epoch: 4/50\n",
      "==========\n",
      "train Loss: 0.2093,  Acc: 0.9395\n",
      "val Loss: 0.2004,  Acc: 0.9412\n",
      "\n",
      "Epoch: 5/50\n",
      "==========\n",
      "train Loss: 0.1886,  Acc: 0.9440\n",
      "val Loss: 0.1967,  Acc: 0.9377\n",
      "\n",
      "Epoch: 6/50\n",
      "==========\n",
      "train Loss: 0.1742,  Acc: 0.9482\n",
      "val Loss: 0.1759,  Acc: 0.9478\n",
      "\n",
      "Epoch: 7/50\n",
      "==========\n",
      "train Loss: 0.1634,  Acc: 0.9523\n",
      "val Loss: 0.1654,  Acc: 0.9482\n",
      "\n",
      "Epoch: 8/50\n",
      "==========\n",
      "train Loss: 0.1542,  Acc: 0.9546\n",
      "val Loss: 0.1616,  Acc: 0.9497\n",
      "\n",
      "Epoch: 9/50\n",
      "==========\n",
      "train Loss: 0.1463,  Acc: 0.9570\n",
      "val Loss: 0.1580,  Acc: 0.9512\n",
      "\n",
      "Epoch: 10/50\n",
      "==========\n",
      "train Loss: 0.1402,  Acc: 0.9588\n",
      "val Loss: 0.1552,  Acc: 0.9527\n",
      "\n",
      "Epoch: 11/50\n",
      "==========\n",
      "train Loss: 0.1350,  Acc: 0.9600\n",
      "val Loss: 0.1521,  Acc: 0.9517\n",
      "\n",
      "Epoch: 12/50\n",
      "==========\n",
      "train Loss: 0.1301,  Acc: 0.9613\n",
      "val Loss: 0.1537,  Acc: 0.9543\n",
      "\n",
      "Epoch: 13/50\n",
      "==========\n",
      "train Loss: 0.1254,  Acc: 0.9628\n",
      "val Loss: 0.1438,  Acc: 0.9575\n",
      "\n",
      "Epoch: 14/50\n",
      "==========\n",
      "train Loss: 0.1227,  Acc: 0.9629\n",
      "val Loss: 0.1455,  Acc: 0.9582\n",
      "\n",
      "Epoch: 15/50\n",
      "==========\n",
      "train Loss: 0.1197,  Acc: 0.9643\n",
      "val Loss: 0.1395,  Acc: 0.9583\n",
      "\n",
      "Epoch: 16/50\n",
      "==========\n",
      "train Loss: 0.1160,  Acc: 0.9651\n",
      "val Loss: 0.1353,  Acc: 0.9605\n",
      "\n",
      "Epoch: 17/50\n",
      "==========\n",
      "train Loss: 0.1133,  Acc: 0.9664\n",
      "val Loss: 0.1418,  Acc: 0.9573\n",
      "\n",
      "Epoch: 18/50\n",
      "==========\n",
      "train Loss: 0.1116,  Acc: 0.9664\n",
      "val Loss: 0.1391,  Acc: 0.9588\n",
      "\n",
      "Epoch: 19/50\n",
      "==========\n",
      "train Loss: 0.1095,  Acc: 0.9673\n",
      "val Loss: 0.1495,  Acc: 0.9535\n",
      "\n",
      "Epoch: 20/50\n",
      "==========\n",
      "train Loss: 0.1078,  Acc: 0.9671\n",
      "val Loss: 0.1438,  Acc: 0.9560\n",
      "\n",
      "Epoch: 21/50\n",
      "==========\n",
      "train Loss: 0.1061,  Acc: 0.9676\n",
      "val Loss: 0.1317,  Acc: 0.9623\n",
      "\n",
      "Epoch: 22/50\n",
      "==========\n",
      "train Loss: 0.1050,  Acc: 0.9682\n",
      "val Loss: 0.1345,  Acc: 0.9618\n",
      "\n",
      "Epoch: 23/50\n",
      "==========\n",
      "train Loss: 0.1032,  Acc: 0.9690\n",
      "val Loss: 0.1360,  Acc: 0.9602\n",
      "\n",
      "Epoch: 24/50\n",
      "==========\n",
      "train Loss: 0.1022,  Acc: 0.9686\n",
      "val Loss: 0.1334,  Acc: 0.9607\n",
      "\n",
      "Epoch: 25/50\n",
      "==========\n",
      "train Loss: 0.1014,  Acc: 0.9693\n",
      "val Loss: 0.1327,  Acc: 0.9602\n",
      "\n",
      "Epoch: 26/50\n",
      "==========\n",
      "train Loss: 0.0997,  Acc: 0.9702\n",
      "val Loss: 0.1329,  Acc: 0.9615\n",
      "\n",
      "Epoch: 27/50\n",
      "==========\n",
      "train Loss: 0.0986,  Acc: 0.9699\n",
      "val Loss: 0.1367,  Acc: 0.9610\n",
      "\n",
      "Epoch: 28/50\n",
      "==========\n",
      "train Loss: 0.0977,  Acc: 0.9705\n",
      "val Loss: 0.1330,  Acc: 0.9617\n",
      "\n",
      "Epoch: 29/50\n",
      "==========\n",
      "train Loss: 0.0969,  Acc: 0.9706\n",
      "val Loss: 0.1433,  Acc: 0.9597\n",
      "\n",
      "Epoch: 30/50\n",
      "==========\n",
      "train Loss: 0.0956,  Acc: 0.9706\n",
      "val Loss: 0.1385,  Acc: 0.9608\n",
      "\n",
      "Epoch: 31/50\n",
      "==========\n",
      "train Loss: 0.0945,  Acc: 0.9716\n",
      "val Loss: 0.1381,  Acc: 0.9613\n",
      "\n",
      "Epoch: 32/50\n",
      "==========\n",
      "train Loss: 0.0941,  Acc: 0.9712\n",
      "val Loss: 0.1409,  Acc: 0.9587\n",
      "\n",
      "Epoch: 33/50\n",
      "==========\n",
      "train Loss: 0.0933,  Acc: 0.9721\n",
      "val Loss: 0.1359,  Acc: 0.9613\n",
      "\n",
      "Epoch: 34/50\n",
      "==========\n",
      "train Loss: 0.0924,  Acc: 0.9718\n",
      "val Loss: 0.1362,  Acc: 0.9620\n",
      "\n",
      "Epoch: 35/50\n",
      "==========\n",
      "train Loss: 0.0914,  Acc: 0.9717\n",
      "val Loss: 0.1447,  Acc: 0.9612\n",
      "\n",
      "Epoch: 36/50\n",
      "==========\n",
      "train Loss: 0.0909,  Acc: 0.9725\n",
      "val Loss: 0.1376,  Acc: 0.9615\n",
      "\n",
      "Epoch: 37/50\n",
      "==========\n",
      "train Loss: 0.0913,  Acc: 0.9728\n",
      "val Loss: 0.1428,  Acc: 0.9598\n",
      "\n",
      "Epoch: 38/50\n",
      "==========\n",
      "train Loss: 0.0899,  Acc: 0.9721\n",
      "val Loss: 0.1347,  Acc: 0.9628\n",
      "\n",
      "Epoch: 39/50\n",
      "==========\n",
      "train Loss: 0.0895,  Acc: 0.9723\n",
      "val Loss: 0.1552,  Acc: 0.9602\n",
      "\n",
      "Epoch: 40/50\n",
      "==========\n",
      "train Loss: 0.0889,  Acc: 0.9726\n",
      "val Loss: 0.1386,  Acc: 0.9627\n",
      "\n",
      "Epoch: 41/50\n",
      "==========\n",
      "train Loss: 0.0890,  Acc: 0.9723\n",
      "val Loss: 0.1361,  Acc: 0.9630\n",
      "\n",
      "Epoch: 42/50\n",
      "==========\n",
      "train Loss: 0.0878,  Acc: 0.9730\n",
      "val Loss: 0.1373,  Acc: 0.9627\n",
      "\n",
      "Epoch: 43/50\n",
      "==========\n",
      "train Loss: 0.0873,  Acc: 0.9733\n",
      "val Loss: 0.1356,  Acc: 0.9628\n",
      "\n",
      "Epoch: 44/50\n",
      "==========\n",
      "train Loss: 0.0869,  Acc: 0.9729\n",
      "val Loss: 0.1434,  Acc: 0.9625\n",
      "\n",
      "Epoch: 45/50\n",
      "==========\n",
      "train Loss: 0.0865,  Acc: 0.9736\n",
      "val Loss: 0.1407,  Acc: 0.9627\n",
      "\n",
      "Epoch: 46/50\n",
      "==========\n",
      "train Loss: 0.0862,  Acc: 0.9733\n",
      "val Loss: 0.1376,  Acc: 0.9635\n",
      "\n",
      "Epoch: 47/50\n",
      "==========\n",
      "train Loss: 0.0860,  Acc: 0.9734\n",
      "val Loss: 0.1404,  Acc: 0.9625\n",
      "\n",
      "Epoch: 48/50\n",
      "==========\n",
      "train Loss: 0.0856,  Acc: 0.9735\n",
      "val Loss: 0.1471,  Acc: 0.9623\n",
      "\n",
      "Epoch: 49/50\n",
      "==========\n",
      "train Loss: 0.0852,  Acc: 0.9737\n",
      "val Loss: 0.1381,  Acc: 0.9647\n",
      "\n",
      "Epoch: 50/50\n",
      "==========\n",
      "train Loss: 0.0849,  Acc: 0.9741\n",
      "val Loss: 0.1363,  Acc: 0.9640\n",
      "\n",
      "Finished Training\n"
     ]
    }
   ],
   "source": [
    "num_epochs = 50\n",
    "fc2_norm = []\n",
    "fc1_norm = []\n",
    "train_loss = []\n",
    "train_acc = []\n",
    "val_loss = []\n",
    "val_acc = []\n",
    "\n",
    "for epoch in range(num_epochs):\n",
    "    print('Epoch: {}/{}'.format(epoch+1, num_epochs))\n",
    "    print('='*10)\n",
    "    \n",
    "    for phase in ['train', 'val']:\n",
    "        running_loss = 0.0\n",
    "        running_corrects = 0\n",
    "        for i, data in enumerate(dataloaders[phase]):\n",
    "            inputs, labels = data\n",
    "            optimizer.zero_grad()\n",
    "            outputs = net(inputs)\n",
    "            _, preds = torch.max(outputs[0], 1)\n",
    "            loss = criterion(outputs[0], labels)\n",
    "            if phase == 'train':\n",
    "                loss.backward()\n",
    "                optimizer.step()\n",
    "            running_loss += loss.item() * inputs.size(0)\n",
    "            running_corrects += torch.sum(preds == labels.data).item()\n",
    "        epoch_loss = running_loss/data_lengths[phase]\n",
    "        epoch_acc = running_corrects/data_lengths[phase]\n",
    "        \n",
    "        if phase == 'train':\n",
    "            fc1_norm.append(net.fc1.weight.grad.norm().item())\n",
    "            fc2_norm.append(net.fc2.weight.grad.norm().item())\n",
    "            train_loss.append(epoch_loss)\n",
    "            train_acc.append(epoch_acc)\n",
    "        else:\n",
    "            val_loss.append(epoch_loss)\n",
    "            val_acc.append(epoch_acc)            \n",
    "        print('{} Loss: {:.4f},  Acc: {:.4f}'.format(phase, epoch_loss, epoch_acc))\n",
    "    print()\n",
    "print('Finished Training')"
   ]
  },
  {
   "cell_type": "code",
   "execution_count": 14,
   "metadata": {},
   "outputs": [
    {
     "data": {
      "image/png": "[encoded data removed]",
      "text/plain": [
       "<Figure size 864x720 with 4 Axes>"
      ]
     },
     "metadata": {
      "needs_background": "light"
     },
     "output_type": "display_data"
    }
   ],
   "source": [
    "epoch_idx = [i for i in range(num_epochs)]\n",
    "plt.figure(figsize=(12, 10))\n",
    "\n",
    "plt.subplot(221)\n",
    "plt.plot(epoch_idx, fc1_norm)\n",
    "plt.xlabel('epochs')\n",
    "plt.ylabel('fc1_grad-norm')\n",
    "\n",
    "plt.subplot(222)\n",
    "plt.plot(epoch_idx, fc2_norm)\n",
    "plt.xlabel('epochs')\n",
    "plt.ylabel('fc2_grad-norm')\n",
    "\n",
    "\n",
    "plt.subplot(223)\n",
    "plt.plot(epoch_idx, train_loss)\n",
    "plt.plot(epoch_idx, val_loss)\n",
    "plt.xlabel('epochs')\n",
    "plt.ylabel('loss')\n",
    "plt.legend(['train', 'test'], loc='upper left')\n",
    "\n",
    "plt.subplot(224)\n",
    "plt.plot(epoch_idx, train_acc)\n",
    "plt.plot(epoch_idx, val_acc)\n",
    "plt.xlabel('epochs')\n",
    "plt.ylabel('accuracy')\n",
    "plt.legend(['train', 'test'], loc='upper left')\n",
    "\n",
    "plt.show()"
   ]
  },
  {
   "cell_type": "code",
   "execution_count": 12,
   "metadata": {},
   "outputs": [
    {
     "name": "stdout",
     "output_type": "stream",
     "text": [
      "test acc: 0.9684\n"
     ]
    }
   ],
   "source": [
    "running_correct = 0\n",
    "for data in dataloaders['test']:\n",
    "    images, labels = data\n",
    "    outputs = net(images)\n",
    "    _, preds = torch.max(outputs[0], 1)\n",
    "    running_correct += (preds == labels).sum().item()\n",
    "\n",
    "print('test acc: {}'.format(running_correct/len(testset)))"
   ]
  },
  {
   "cell_type": "code",
   "execution_count": 13,
   "metadata": {},
   "outputs": [],
   "source": [
    "txt_list = ['train_loss', 'train_acc', 'val_loss', 'val_acc', 'fc1_norm', 'fc2_norm']\n",
    "txt_dict = {'train_loss': train_loss, \n",
    "            'train_acc': train_acc, \n",
    "            'val_loss': val_loss, \n",
    "            'val_acc': val_acc,\n",
    "            'fc1_norm': fc1_norm,\n",
    "            'fc2_norm': fc2_norm}\n",
    "\n",
    "with open('log_adam_epoch_50_bsize_4.txt', 'w') as f:\n",
    "    for item in txt_list:\n",
    "        f.write(item)\n",
    "        f.write(\"\\n\")\n",
    "        for i in txt_dict[item]:\n",
    "            f.write(\"%s, \" % i)\n",
    "        f.write(\"\\n\")"
   ]
  },
  {
   "cell_type": "code",
   "execution_count": 15,
   "metadata": {},
   "outputs": [
    {
     "name": "stderr",
     "output_type": "stream",
     "text": [
      "C:\\Users\\ADMIN\\Anaconda3\\envs\\machlearn\\lib\\site-packages\\torch\\serialization.py:241: UserWarning: Couldn't retrieve source code for container of type Net. It won't be checked for correctness upon loading.\n",
      "  \"type \" + obj.__name__ + \". It won't be checked \"\n"
     ]
    }
   ],
   "source": [
    "torch.save(net, 'trained-models/adam-epoch-50-bsize-4.pth')"
   ]
  },
  {
   "cell_type": "code",
   "execution_count": 16,
   "metadata": {},
   "outputs": [],
   "source": [
    "model = torch.load('trained-models/adam-epoch-50-bsize-4.pth')"
   ]
  },
  {
   "cell_type": "code",
   "execution_count": 17,
   "metadata": {},
   "outputs": [
    {
     "data": {
      "text/plain": [
       "<matplotlib.image.AxesImage at 0xd78bc88>"
      ]
     },
     "execution_count": 17,
     "metadata": {},
     "output_type": "execute_result"
    },
    {
     "data": {
      "image/png": "[encoded data removed]",
      "text/plain": [
       "<Figure size 1080x360 with 1 Axes>"
      ]
     },
     "metadata": {
      "needs_background": "light"
     },
     "output_type": "display_data"
    }
   ],
   "source": [
    "plt.figure(figsize=(15, 5))\n",
    "plt.imshow(model.fc1.weight.data)"
   ]
  },
  {
   "cell_type": "code",
   "execution_count": 18,
   "metadata": {},
   "outputs": [
    {
     "data": {
      "text/plain": [
       "<matplotlib.image.AxesImage at 0xd706630>"
      ]
     },
     "execution_count": 18,
     "metadata": {},
     "output_type": "execute_result"
    },
    {
     "data": {
      "image/png": "[encoded data removed]",
      "text/plain": [
       "<Figure size 1080x360 with 1 Axes>"
      ]
     },
     "metadata": {
      "needs_background": "light"
     },
     "output_type": "display_data"
    }
   ],
   "source": [
    "plt.figure(figsize=(15, 5))\n",
    "plt.imshow(model.fc2.weight.data)"
   ]
  }
 ],
 "metadata": {
  "kernelspec": {
   "display_name": "Python 3",
   "language": "python",
   "name": "python3"
  },
  "language_info": {
   "codemirror_mode": {
    "name": "ipython",
    "version": 3
   },
   "file_extension": ".py",
   "mimetype": "text/x-python",
   "name": "python",
   "nbconvert_exporter": "python",
   "pygments_lexer": "ipython3",
   "version": "3.6.6"
  }
 },
 "nbformat": 4,
 "nbformat_minor": 2
}
