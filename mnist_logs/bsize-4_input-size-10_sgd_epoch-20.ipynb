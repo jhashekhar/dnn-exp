{
 "cells": [
  {
   "cell_type": "code",
   "execution_count": 1,
   "metadata": {},
   "outputs": [],
   "source": [
    "import numpy as np\n",
    "import torch\n",
    "import torch.nn.functional as F\n",
    "import torch.nn as nn\n",
    "import torchvision\n",
    "from torchvision import transforms"
   ]
  },
  {
   "cell_type": "code",
   "execution_count": 2,
   "metadata": {},
   "outputs": [
    {
     "name": "stdout",
     "output_type": "stream",
     "text": [
      "Downloading http://yann.lecun.com/exdb/mnist/train-images-idx3-ubyte.gz\n",
      "Downloading http://yann.lecun.com/exdb/mnist/train-labels-idx1-ubyte.gz\n",
      "Downloading http://yann.lecun.com/exdb/mnist/t10k-images-idx3-ubyte.gz\n",
      "Downloading http://yann.lecun.com/exdb/mnist/t10k-labels-idx1-ubyte.gz\n",
      "Processing...\n",
      "Done!\n"
     ]
    }
   ],
   "source": [
    "trainset = torchvision.datasets.MNIST(root='data/', \n",
    "                                      train=True, \n",
    "                                      transform = torchvision.transforms.Compose([\n",
    "                                          transforms.Resize(10),\n",
    "                                          transforms.ToTensor()]),\n",
    "                                      download=True)\n",
    "\n",
    "testset = torchvision.datasets.MNIST(root='data/', \n",
    "                                     train=False,\n",
    "                                     transform = torchvision.transforms.Compose([\n",
    "                                         transforms.Resize(10), \n",
    "                                         transforms.ToTensor()]), \n",
    "                                     download=True)"
   ]
  },
  {
   "cell_type": "code",
   "execution_count": 43,
   "metadata": {},
   "outputs": [],
   "source": [
    "indices = [i for i in range(len(trainset))]"
   ]
  },
  {
   "cell_type": "code",
   "execution_count": null,
   "metadata": {},
   "outputs": [],
   "source": []
  },
  {
   "cell_type": "code",
   "execution_count": 3,
   "metadata": {},
   "outputs": [
    {
     "name": "stdout",
     "output_type": "stream",
     "text": [
      "torch.Size([1, 10, 10])\n",
      "torch.Size([10, 10])\n",
      "tensor(4)\n"
     ]
    },
    {
     "data": {
      "text/plain": [
       "<matplotlib.image.AxesImage at 0x1018f048>"
      ]
     },
     "execution_count": 3,
     "metadata": {},
     "output_type": "execute_result"
    }
   ],
   "source": [
    "import matplotlib.pyplot as plt\n",
    "img = trainset[2][0]\n",
    "print(img.shape)\n",
    "img = img.reshape(10, 10)\n",
    "print(img.shape)\n",
    "print(trainset[2][1])\n",
    "plt.gray()\n",
    "plt.imshow(img)"
   ]
  },
  {
   "cell_type": "code",
   "execution_count": 4,
   "metadata": {},
   "outputs": [],
   "source": [
    "trainloader = torch.utils.data.DataLoader(trainset, batch_size=4, shuffle=True)\n",
    "testloader = torch.utils.data.DataLoader(testset, batch_size=4, shuffle=False)"
   ]
  },
  {
   "cell_type": "code",
   "execution_count": 46,
   "metadata": {},
   "outputs": [],
   "source": [
    "class Net(nn.Module):\n",
    "    def __init__(self):\n",
    "        super(Net, self).__init__()\n",
    "        self.fc1 = nn.Linear(100, 25)\n",
    "        self.fc2 = nn.Linear(25, 10)\n",
    "        \n",
    "    def forward(self, x):\n",
    "        z1 = F.relu(self.fc1(x.view(4, -1)))\n",
    "        out = self.fc2(z1)\n",
    "        return out, z1"
   ]
  },
  {
   "cell_type": "code",
   "execution_count": 47,
   "metadata": {},
   "outputs": [],
   "source": [
    "net = Net()"
   ]
  },
  {
   "cell_type": "code",
   "execution_count": 48,
   "metadata": {},
   "outputs": [],
   "source": [
    "criterion = nn.CrossEntropyLoss()\n",
    "optimizer = torch.optim.SGD(net.parameters(), lr=0.001, momentum=0.9)"
   ]
  },
  {
   "cell_type": "code",
   "execution_count": 49,
   "metadata": {},
   "outputs": [
    {
     "name": "stdout",
     "output_type": "stream",
     "text": [
      "Epoch: 1/20\n",
      "==========\n",
      "train loss: 0.7061558670739333\n",
      "\n",
      "Epoch: 2/20\n",
      "==========\n",
      "train loss: 0.3462095180829366\n",
      "\n",
      "Epoch: 3/20\n",
      "==========\n",
      "train loss: 0.3045898073136806\n",
      "\n",
      "Epoch: 4/20\n",
      "==========\n",
      "train loss: 0.27672728292743365\n",
      "\n",
      "Epoch: 5/20\n",
      "==========\n",
      "train loss: 0.25473171400825184\n",
      "\n",
      "Epoch: 6/20\n",
      "==========\n",
      "train loss: 0.2358114652911822\n",
      "\n",
      "Epoch: 7/20\n",
      "==========\n",
      "train loss: 0.2202473207950592\n",
      "\n",
      "Epoch: 8/20\n",
      "==========\n",
      "train loss: 0.2062872561275959\n",
      "\n",
      "Epoch: 9/20\n",
      "==========\n",
      "train loss: 0.19396243609189986\n",
      "\n",
      "Epoch: 10/20\n",
      "==========\n",
      "train loss: 0.18399062018791834\n",
      "\n",
      "Epoch: 11/20\n",
      "==========\n",
      "train loss: 0.1754441379805406\n",
      "\n",
      "Epoch: 12/20\n",
      "==========\n",
      "train loss: 0.1682267777880033\n",
      "\n",
      "Epoch: 13/20\n",
      "==========\n",
      "train loss: 0.16155367397268613\n",
      "\n",
      "Epoch: 14/20\n",
      "==========\n",
      "train loss: 0.15658131258686384\n",
      "\n",
      "Epoch: 15/20\n",
      "==========\n",
      "train loss: 0.15159609857002895\n",
      "\n",
      "Epoch: 16/20\n",
      "==========\n",
      "train loss: 0.14755893032153447\n",
      "\n",
      "Epoch: 17/20\n",
      "==========\n",
      "train loss: 0.14471845881342887\n",
      "\n",
      "Epoch: 18/20\n",
      "==========\n",
      "train loss: 0.14137493704160053\n",
      "\n",
      "Epoch: 19/20\n",
      "==========\n",
      "train loss: 0.13852694579760233\n",
      "\n",
      "Epoch: 20/20\n",
      "==========\n",
      "train loss: 0.13556722548007966\n",
      "\n",
      "Finished Training\n"
     ]
    }
   ],
   "source": [
    "num_epochs = 20\n",
    "for epoch in range(num_epochs):\n",
    "    print('Epoch: {}/{}'.format(epoch+1, num_epochs))\n",
    "    print('='*10)\n",
    "    running_loss = 0.0\n",
    "    for i, data in enumerate(trainloader):\n",
    "        inputs, labels = data\n",
    "        optimizer.zero_grad()\n",
    "        outputs = net(inputs)\n",
    "        loss = criterion(outputs[0], labels)\n",
    "        loss.backward()\n",
    "        optimizer.step()\n",
    "        running_loss += loss.item() * inputs.size(0)\n",
    "    print('train loss: {}\\n'.format(running_loss/len(trainset)))\n",
    "\n",
    "print('Finished Training')"
   ]
  },
  {
   "cell_type": "code",
   "execution_count": 50,
   "metadata": {},
   "outputs": [],
   "source": [
    "#net.fc2.weight.data.shape\n",
    "#plt.imshow(z1[1][0].detach().numpy())"
   ]
  },
  {
   "cell_type": "code",
   "execution_count": 51,
   "metadata": {},
   "outputs": [
    {
     "name": "stdout",
     "output_type": "stream",
     "text": [
      "test acc: 0.9623\n"
     ]
    }
   ],
   "source": [
    "running_correct = 0\n",
    "for data in testloader:\n",
    "    images, labels = data\n",
    "    outputs = net(images)\n",
    "    _, preds = torch.max(outputs[0], 1)\n",
    "    running_correct += (preds == labels).sum().item()\n",
    "\n",
    "print('test acc: {}'.format(running_correct/len(testset)))"
   ]
  },
  {
   "cell_type": "code",
   "execution_count": 52,
   "metadata": {},
   "outputs": [
    {
     "name": "stderr",
     "output_type": "stream",
     "text": [
      "C:\\Users\\ADMIN\\Anaconda3\\envs\\machlearn\\lib\\site-packages\\torch\\serialization.py:241: UserWarning: Couldn't retrieve source code for container of type Net. It won't be checked for correctness upon loading.\n",
      "  \"type \" + obj.__name__ + \". It won't be checked \"\n"
     ]
    }
   ],
   "source": [
    "torch.save(net, 'trained-models/net_01.pth')"
   ]
  },
  {
   "cell_type": "code",
   "execution_count": 53,
   "metadata": {},
   "outputs": [],
   "source": [
    "model = torch.load('trained-models/net_01.pth')"
   ]
  },
  {
   "cell_type": "code",
   "execution_count": 54,
   "metadata": {},
   "outputs": [
    {
     "data": {
      "text/plain": [
       "torch.Size([25, 100])"
      ]
     },
     "execution_count": 54,
     "metadata": {},
     "output_type": "execute_result"
    }
   ],
   "source": [
    "model.fc1.weight.data.shape"
   ]
  },
  {
   "cell_type": "code",
   "execution_count": 55,
   "metadata": {},
   "outputs": [
    {
     "data": {
      "text/plain": [
       "<matplotlib.image.AxesImage at 0x110f9668>"
      ]
     },
     "execution_count": 55,
     "metadata": {},
     "output_type": "execute_result"
    },
    {
     "data": {
      "image/png": "[encoded data removed]",
      "text/plain": [
       "<Figure size 1080x360 with 1 Axes>"
      ]
     },
     "metadata": {
      "needs_background": "light"
     },
     "output_type": "display_data"
    }
   ],
   "source": [
    "plt.figure(figsize=(15, 5))\n",
    "plt.imshow(model.fc1.weight.data)"
   ]
  },
  {
   "cell_type": "code",
   "execution_count": 56,
   "metadata": {},
   "outputs": [
    {
     "data": {
      "text/plain": [
       "<matplotlib.image.AxesImage at 0x11145d68>"
      ]
     },
     "execution_count": 56,
     "metadata": {},
     "output_type": "execute_result"
    },
    {
     "data": {
      "image/png": "[encoded data removed]",
      "text/plain": [
       "<Figure size 1080x360 with 1 Axes>"
      ]
     },
     "metadata": {
      "needs_background": "light"
     },
     "output_type": "display_data"
    }
   ],
   "source": [
    "plt.figure(figsize=(15, 5))\n",
    "plt.imshow(model.fc2.weight.data)"
   ]
  }
 ],
 "metadata": {
  "kernelspec": {
   "display_name": "Python 3",
   "language": "python",
   "name": "python3"
  },
  "language_info": {
   "codemirror_mode": {
    "name": "ipython",
    "version": 3
   },
   "file_extension": ".py",
   "mimetype": "text/x-python",
   "name": "python",
   "nbconvert_exporter": "python",
   "pygments_lexer": "ipython3",
   "version": "3.6.6"
  }
 },
 "nbformat": 4,
 "nbformat_minor": 2
}
